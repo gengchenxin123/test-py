{
 "cells": [
  {
   "cell_type": "code",
   "execution_count": 2,
   "id": "41e5aa6b",
   "metadata": {},
   "outputs": [],
   "source": [
    "import gensim\n",
    "import pandas as pd"
   ]
  },
  {
   "cell_type": "code",
   "execution_count": 17,
   "id": "cdb998c5",
   "metadata": {},
   "outputs": [],
   "source": [
    "with open('./stopwordslist.txt',encoding='utf-8') as file:\n",
    "    stop_words = file.read()  \n",
    "\n",
    "# 假设有一个文本列表  \n",
    "with open('./新建文本文档.txt',encoding='utf-8') as file:\n",
    "    texts=file.read()\n",
    "\n",
    "\n"
   ]
  },
  {
   "cell_type": "code",
   "execution_count": 26,
   "id": "aa13ff5c",
   "metadata": {},
   "outputs": [
    {
     "ename": "AttributeError",
     "evalue": "'list' object has no attribute 'decode'",
     "output_type": "error",
     "traceback": [
      "\u001b[1;31m---------------------------------------------------------------------------\u001b[0m",
      "\u001b[1;31mAttributeError\u001b[0m                            Traceback (most recent call last)",
      "Cell \u001b[1;32mIn[26], line 15\u001b[0m\n\u001b[0;32m     12\u001b[0m words \u001b[38;5;241m=\u001b[39m jieba\u001b[38;5;241m.\u001b[39mcut(text)\n\u001b[0;32m     13\u001b[0m clean_words \u001b[38;5;241m=\u001b[39m []\n\u001b[1;32m---> 15\u001b[0m \u001b[38;5;28;01mfor\u001b[39;00m word \u001b[38;5;129;01min\u001b[39;00m words:\n\u001b[0;32m     16\u001b[0m     \u001b[38;5;28;01mif\u001b[39;00m word \u001b[38;5;129;01mnot\u001b[39;00m \u001b[38;5;129;01min\u001b[39;00m stopwords:\n\u001b[0;32m     17\u001b[0m         clean_words\u001b[38;5;241m.\u001b[39mappend[word]\n",
      "File \u001b[1;32mD:\\anaco\\Lib\\site-packages\\jieba\\__init__.py:300\u001b[0m, in \u001b[0;36mTokenizer.cut\u001b[1;34m(self, sentence, cut_all, HMM, use_paddle)\u001b[0m\n\u001b[0;32m    290\u001b[0m \u001b[38;5;250m\u001b[39m\u001b[38;5;124;03m\"\"\"\u001b[39;00m\n\u001b[0;32m    291\u001b[0m \u001b[38;5;124;03mThe main function that segments an entire sentence that contains\u001b[39;00m\n\u001b[0;32m    292\u001b[0m \u001b[38;5;124;03mChinese characters into separated words.\u001b[39;00m\n\u001b[1;32m   (...)\u001b[0m\n\u001b[0;32m    297\u001b[0m \u001b[38;5;124;03m    - HMM: Whether to use the Hidden Markov Model.\u001b[39;00m\n\u001b[0;32m    298\u001b[0m \u001b[38;5;124;03m\"\"\"\u001b[39;00m\n\u001b[0;32m    299\u001b[0m is_paddle_installed \u001b[38;5;241m=\u001b[39m check_paddle_install[\u001b[38;5;124m'\u001b[39m\u001b[38;5;124mis_paddle_installed\u001b[39m\u001b[38;5;124m'\u001b[39m]\n\u001b[1;32m--> 300\u001b[0m sentence \u001b[38;5;241m=\u001b[39m strdecode(sentence)\n\u001b[0;32m    301\u001b[0m \u001b[38;5;28;01mif\u001b[39;00m use_paddle \u001b[38;5;129;01mand\u001b[39;00m is_paddle_installed:\n\u001b[0;32m    302\u001b[0m     \u001b[38;5;66;03m# if sentence is null, it will raise core exception in paddle.\u001b[39;00m\n\u001b[0;32m    303\u001b[0m     \u001b[38;5;28;01mif\u001b[39;00m sentence \u001b[38;5;129;01mis\u001b[39;00m \u001b[38;5;28;01mNone\u001b[39;00m \u001b[38;5;129;01mor\u001b[39;00m \u001b[38;5;28mlen\u001b[39m(sentence) \u001b[38;5;241m==\u001b[39m \u001b[38;5;241m0\u001b[39m:\n",
      "File \u001b[1;32mD:\\anaco\\Lib\\site-packages\\jieba\\_compat.py:79\u001b[0m, in \u001b[0;36mstrdecode\u001b[1;34m(sentence)\u001b[0m\n\u001b[0;32m     77\u001b[0m \u001b[38;5;28;01mif\u001b[39;00m \u001b[38;5;129;01mnot\u001b[39;00m \u001b[38;5;28misinstance\u001b[39m(sentence, text_type):\n\u001b[0;32m     78\u001b[0m     \u001b[38;5;28;01mtry\u001b[39;00m:\n\u001b[1;32m---> 79\u001b[0m         sentence \u001b[38;5;241m=\u001b[39m sentence\u001b[38;5;241m.\u001b[39mdecode(\u001b[38;5;124m'\u001b[39m\u001b[38;5;124mutf-8\u001b[39m\u001b[38;5;124m'\u001b[39m)\n\u001b[0;32m     80\u001b[0m     \u001b[38;5;28;01mexcept\u001b[39;00m \u001b[38;5;167;01mUnicodeDecodeError\u001b[39;00m:\n\u001b[0;32m     81\u001b[0m         sentence \u001b[38;5;241m=\u001b[39m sentence\u001b[38;5;241m.\u001b[39mdecode(\u001b[38;5;124m'\u001b[39m\u001b[38;5;124mgbk\u001b[39m\u001b[38;5;124m'\u001b[39m, \u001b[38;5;124m'\u001b[39m\u001b[38;5;124mignore\u001b[39m\u001b[38;5;124m'\u001b[39m)\n",
      "\u001b[1;31mAttributeError\u001b[0m: 'list' object has no attribute 'decode'"
     ]
    }
   ],
   "source": [
    "import jieba\n",
    "\n",
    "# 加载中文停用词表\n",
    "stopwords_path = './新建文本文档.txt'\n",
    "with open(stopwords_path, 'r', encoding='utf-8') as f:\n",
    "    stopwords = [line.strip() for line in f.readlines()]\n",
    "\n",
    "# 分词并去除停用词\n",
    "texts= './新建文本文档.txt'\n",
    "with open(texts, 'r', encoding='utf-8') as f:\n",
    "    text = [line.strip() for line in f.readlines()]\n",
    "words = jieba.cut(text)\n",
    "clean_words = []\n",
    "\n",
    "for word in words:\n",
    "    if word not in stopwords:\n",
    "        clean_words.append[word]\n",
    "\n",
    "print(clean_words)\n"
   ]
  },
  {
   "cell_type": "code",
   "execution_count": null,
   "id": "da641bea",
   "metadata": {},
   "outputs": [],
   "source": []
  },
  {
   "cell_type": "code",
   "execution_count": null,
   "id": "48ff2c95",
   "metadata": {},
   "outputs": [],
   "source": []
  },
  {
   "cell_type": "code",
   "execution_count": null,
   "id": "b8ade173",
   "metadata": {},
   "outputs": [],
   "source": []
  }
 ],
 "metadata": {
  "kernelspec": {
   "display_name": "Python 3 (ipykernel)",
   "language": "python",
   "name": "python3"
  },
  "language_info": {
   "codemirror_mode": {
    "name": "ipython",
    "version": 3
   },
   "file_extension": ".py",
   "mimetype": "text/x-python",
   "name": "python",
   "nbconvert_exporter": "python",
   "pygments_lexer": "ipython3",
   "version": "3.11.4"
  }
 },
 "nbformat": 4,
 "nbformat_minor": 5
}
